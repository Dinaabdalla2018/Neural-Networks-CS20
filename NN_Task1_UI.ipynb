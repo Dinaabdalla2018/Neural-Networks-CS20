{
 "cells": [
  {
   "cell_type": "code",
   "execution_count": 1163,
   "metadata": {},
   "outputs": [],
   "source": [
    "from tkinter import *"
   ]
  },
  {
   "cell_type": "code",
   "execution_count": 1164,
   "metadata": {},
   "outputs": [],
   "source": [
    "input_window = Tk()\n",
    "input_window.title(\"Neural Networks Task 1\")\n",
    "input_window.geometry(\"500x500\")\n",
    "iris_features = ['X1', 'X2', 'X3', 'X4']\n",
    "iris_flowers = [\"Iris-setosa\", \"Iris-versicolor\", \"Iris-virginica\"]"
   ]
  },
  {
   "cell_type": "markdown",
   "metadata": {},
   "source": [
    "<h3>Features Dropdown Lists</h3>"
   ]
  },
  {
   "cell_type": "code",
   "execution_count": 1165,
   "metadata": {},
   "outputs": [],
   "source": [
    "#feature 1 label\n",
    "feature1_value = StringVar()\n",
    "feature1_label = Label(input_window, textvariable = feature1_value) \n",
    "feature1_value.set(\"Feature 1\")\n",
    "feature1_label.place(x=138, y=95)\n",
    "# feature 1 dropdown list\n",
    "feature1_var = StringVar(input_window)\n",
    "feature1 = OptionMenu(input_window, feature1_var, *iris_features)\n",
    "feature1.config(width=12, font=('Helvetica', 10)) #change width and font of list\n",
    "#feature1_var.set('features') # set the default option\n",
    "feature1.place(x=190, y=90) # Add dropdown list to input_window"
   ]
  },
  {
   "cell_type": "code",
   "execution_count": 1166,
   "metadata": {},
   "outputs": [],
   "source": [
    "#feature 2 label\n",
    "feature2_value = StringVar()\n",
    "feature2_label = Label(input_window, textvariable = feature2_value) \n",
    "feature2_value.set(\"Feature 2\")\n",
    "feature2_label.place(x=138, y=125)\n",
    "#feature 2 dropdown list\n",
    "feature2_var = StringVar(input_window)\n",
    "feature2 = OptionMenu(input_window, feature2_var, *iris_features)\n",
    "feature2.config(width=12, font=('Helvetica', 10))\n",
    "#feature2_var.set('features') # set the default option\n",
    "feature2.place(x=190, y=120)"
   ]
  },
  {
   "cell_type": "markdown",
   "metadata": {},
   "source": [
    "<h3>Classes Dropdown Lists</h3>"
   ]
  },
  {
   "cell_type": "code",
   "execution_count": 1167,
   "metadata": {},
   "outputs": [],
   "source": [
    "#Class 1 label\n",
    "class1_value = StringVar()\n",
    "class1_label = Label(input_window, textvariable = class1_value) \n",
    "class1_value.set(\"Class 1\")\n",
    "class1_label.place(x=150, y=155)\n",
    "#Class 1 drodown list\n",
    "class1_var = StringVar(input_window)\n",
    "class1 = OptionMenu(input_window, class1_var, *iris_flowers)\n",
    "class1.config(width=12, font=('Helvetica', 10))\n",
    "#class1_var.set('Classes') # set the default option\n",
    "class1.place(x=190, y=150)"
   ]
  },
  {
   "cell_type": "code",
   "execution_count": 1168,
   "metadata": {},
   "outputs": [],
   "source": [
    "#Class 2 label\n",
    "class2_value = StringVar()\n",
    "class2_label = Label(input_window, textvariable = class2_value) \n",
    "class2_value.set(\"Class 2\")\n",
    "class2_label.place(x=150, y=185)\n",
    "#Class 2 dropdown list\n",
    "class2_var = StringVar(input_window)\n",
    "class2 = OptionMenu(input_window, class2_var, *iris_flowers)\n",
    "class2.config(width=12, font=('Helvetica', 10))\n",
    "#class2_var.set('Classes') # set the default option\n",
    "class2.place(x=190, y=180)"
   ]
  },
  {
   "cell_type": "markdown",
   "metadata": {},
   "source": [
    "<h3>Learning Rate</h3>"
   ]
  },
  {
   "cell_type": "code",
   "execution_count": 1169,
   "metadata": {},
   "outputs": [],
   "source": [
    "#learning rate label\n",
    "learning_rate_value = StringVar()\n",
    "learning_rate_label = Label(input_window, textvariable = learning_rate_value) \n",
    "learning_rate_value.set(\"Learning Rate\")\n",
    "learning_rate_label.place(x=113, y=210)\n",
    "#learning rate text\n",
    "learning_rate_text = Entry(input_window)\n",
    "learning_rate_text.place(x=193, y=210)\n",
    "learning_rate_text.focus_set()"
   ]
  },
  {
   "cell_type": "markdown",
   "metadata": {},
   "source": [
    "<h3>Epochs</h3>"
   ]
  },
  {
   "cell_type": "code",
   "execution_count": 1170,
   "metadata": {},
   "outputs": [],
   "source": [
    "#Epochs label\n",
    "epochs_label_value = StringVar()\n",
    "epochs_label = Label(input_window, textvariable = epochs_label_value) \n",
    "epochs_label_value.set(\"Epochs\")\n",
    "epochs_label.place(x=150, y=240)\n",
    "#Epochs text\n",
    "epochs_text = Entry(input_window)\n",
    "epochs_text.place(x=193, y=240)\n",
    "epochs_text.focus_set()"
   ]
  },
  {
   "cell_type": "markdown",
   "metadata": {},
   "source": [
    "<h3>Bias</h3>"
   ]
  },
  {
   "cell_type": "code",
   "execution_count": 1171,
   "metadata": {},
   "outputs": [],
   "source": [
    "#Bias check box\n",
    "bias_checkbox = IntVar()\n",
    "Checkbutton(input_window, text=\"Bias\", variable=bias_checkbox).place(x=190,y=260)"
   ]
  },
  {
   "cell_type": "markdown",
   "metadata": {},
   "source": [
    "<h3>Training The Model Button</h3>"
   ]
  },
  {
   "cell_type": "code",
   "execution_count": 1172,
   "metadata": {},
   "outputs": [],
   "source": [
    "def submit_button():\n",
    "    #main(feature1.get(), feature2.get(), class1.get(), class2.get(), learning_rate_text.get(), epochs_text.get(), bias_checkbox.get())\n",
    "    print(feature1_var.get())\n",
    "    print(feature2_var.get())\n",
    "    print(class1_var.get())\n",
    "    print(class2_var.get())\n",
    "    print(learning_rate_text.get())\n",
    "    print(epochs_text.get())\n",
    "    print(bias_checkbox.get())\n"
   ]
  },
  {
   "cell_type": "code",
   "execution_count": 1173,
   "metadata": {},
   "outputs": [],
   "source": [
    "#Button\n",
    "train_model_button = Button(input_window, text='Train Model', width=17, command=submit_button)\n",
    "train_model_button.place(x=190, y=300)"
   ]
  },
  {
   "cell_type": "code",
   "execution_count": 1174,
   "metadata": {},
   "outputs": [],
   "source": [
    "input_window.mainloop() #open window"
   ]
  },
  {
   "cell_type": "code",
   "execution_count": null,
   "metadata": {},
   "outputs": [],
   "source": []
  }
 ],
 "metadata": {
  "kernelspec": {
   "display_name": "Python 3",
   "language": "python",
   "name": "python3"
  },
  "language_info": {
   "codemirror_mode": {
    "name": "ipython",
    "version": 3
   },
   "file_extension": ".py",
   "mimetype": "text/x-python",
   "name": "python",
   "nbconvert_exporter": "python",
   "pygments_lexer": "ipython3",
   "version": "3.6.10"
  }
 },
 "nbformat": 4,
 "nbformat_minor": 4
}
