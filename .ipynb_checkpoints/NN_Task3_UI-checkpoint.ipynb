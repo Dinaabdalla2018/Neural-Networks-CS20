{
 "cells": [
  {
   "cell_type": "markdown",
   "metadata": {
    "colab_type": "text",
    "id": "hfFHnt1nPLti"
   },
   "source": [
    "<h1>Task 3</h1>"
   ]
  },
  {
   "cell_type": "markdown",
   "metadata": {
    "colab_type": "text",
    "id": "ZtYDESXlPLtU"
   },
   "source": [
    "<h2>Imports</h2>"
   ]
  },
  {
   "cell_type": "code",
   "execution_count": 3090,
   "metadata": {
    "colab": {},
    "colab_type": "code",
    "id": "p8Yw_2fiPLta"
   },
   "outputs": [],
   "source": [
    "import math\n",
    "import numpy as np\n",
    "import pandas as pd\n",
    "from random import random\n",
    "import matplotlib.pyplot as plt\n",
    "from sklearn.model_selection import train_test_split\n",
    "from sklearn.metrics import confusion_matrix\n",
    "from sklearn.preprocessing import LabelEncoder\n",
    "from sklearn.preprocessing import OneHotEncoder"
   ]
  },
  {
   "cell_type": "markdown",
   "metadata": {
    "colab_type": "text",
    "id": "LjXTNbSqPLte"
   },
   "source": [
    "## Read csv file"
   ]
  },
  {
   "cell_type": "code",
   "execution_count": 3091,
   "metadata": {
    "colab": {},
    "colab_type": "code",
    "id": "7T1Bmo6tPLtf"
   },
   "outputs": [],
   "source": [
    "data = pd.read_csv('IrisData.txt')"
   ]
  },
  {
   "cell_type": "markdown",
   "metadata": {},
   "source": [
    "## Task functions"
   ]
  },
  {
   "cell_type": "code",
   "execution_count": 3092,
   "metadata": {},
   "outputs": [],
   "source": [
    "# Sigmoid activation function\n",
    "def sigmoid_derivative(x):\n",
    "    f = 1 / (1 + np.exp(-1*x))\n",
    "    return (f * (1 - f))"
   ]
  },
  {
   "cell_type": "code",
   "execution_count": 3093,
   "metadata": {},
   "outputs": [],
   "source": [
    "# Hyper Tangent activation function\n",
    "def tanh_derivative(x):\n",
    "    f = (2/(1 + np.exp(-2*x))-1)\n",
    "    return (1 - (f**2))"
   ]
  },
  {
   "cell_type": "markdown",
   "metadata": {},
   "source": [
    "## Creating the neural network layers\n",
    "\n",
    "- Each layer consists of an input matrix, a weight matrix and an error list.\n",
    "\n",
    "    - The Input layer, is the x_train or test matrix.\n",
    "\n",
    "    - The output layer, is a (3, 1) matirx.\n",
    "    \n",
    "    - For each of the hidden layers the dimensions are (numOf neurons in this layer, numOf neurons in the previous layer)"
   ]
  },
  {
   "cell_type": "code",
   "execution_count": 3094,
   "metadata": {},
   "outputs": [],
   "source": [
    "# network contains layers in the form of dictionaries, each layer consists of:\n",
    "# numpy array of layer weights.\n",
    "# numpy array of layer inputs.\n",
    "# net value.\n",
    "# gradient value.\n",
    "# All values are randomly intialized.\n",
    "def nn_setup(numOf_hidden_Layers, numOf_neurons):\n",
    "    # adding the number of neurons of the input layer\n",
    "    numOf_neurons.insert(0, data.shape[1])\n",
    "    # a list of dictionaries of numpy arrays, holding the layers weights, inputs, net and gradient value.\n",
    "    network = list()\n",
    "    input_layer   = {'weights':  np.random.rand(numOf_neurons[0]),\n",
    "                     'inputs': np.random.rand(numOf_neurons[0]), \n",
    "                     'net': np.random.rand(numOf_neurons[0], 1), \n",
    "                     'gradient': np.random.rand(numOf_neurons[0], 1)}\n",
    "    input_layer['weights'] = input_layer['weights'].reshape(input_layer['weights'].shape[0], 1)\n",
    "    input_layer['inputs'] = input_layer['inputs'].reshape(input_layer['inputs'].shape[0], 1)\n",
    "    \n",
    "    hidden_layers = [{'weights': np.random.rand(numOf_neurons[i], numOf_neurons[i - 1]),\n",
    "                      'inputs': np.random.rand(numOf_neurons[i], numOf_neurons[i - 1]), \n",
    "                      'net': np.random.rand(numOf_neurons[i], 1), \n",
    "                      'gradient': np.random.rand(numOf_neurons[i], 1)} for i in range(1, len(numOf_neurons))]\n",
    "    \n",
    "    output_layer  = {'weights':  np.random.rand(4, numOf_neurons[-1]),\n",
    "                     'inputs': np.random.rand(4, numOf_neurons[-1]), \n",
    "                     'net': np.random.rand(4, 1), \n",
    "                     'gradient': np.random.rand(4, 1)}\n",
    "    \n",
    "    network.append(input_layer)\n",
    "    network += hidden_layers\n",
    "    network.append(output_layer)\n",
    "    #print(network)\n",
    "    \n",
    "    return network"
   ]
  },
  {
   "cell_type": "markdown",
   "metadata": {},
   "source": [
    "<h2>Backpropagation</h2>"
   ]
  },
  {
   "cell_type": "markdown",
   "metadata": {},
   "source": [
    "### First feed forward function\n",
    "\n",
    "- use vector/matrix multiplication to calculate net value on each layer.\n",
    "    - net  = sum(dot(layer_x, W.T))"
   ]
  },
  {
   "cell_type": "code",
   "execution_count": 3095,
   "metadata": {},
   "outputs": [],
   "source": [
    "# network contains layers in the form of dictionaries, each layer consists of:\n",
    "# numpy array of layer weights.\n",
    "# numpy array of layer inputs.\n",
    "# net value.\n",
    "# gradient value.\n",
    "# All values are randomly intialized.\n",
    "def feed_forward1(network, input_row, activation_fn, use_bias):\n",
    "    # for each layer use vector/matrix multiplication to calculate the net value and update it in the network.\n",
    "    network[0]['inputs'] = input_row.reshape(input_row.shape[0], 1)\n",
    "    network[1]['inputs'] = input_row.reshape(input_row.shape[0], 1)\n",
    "    last_output = []\n",
    "    for i in range(1, len(network)):\n",
    "        #if not use_bias:\n",
    "        #    network[i]['weights'][:][0] = np.zeros(network[i]['weights'].shape[1])\n",
    "        # calculate the product of the current layer's weights and inputs.\n",
    "        neurons_val = np.dot(network[i]['weights'], network[i]['inputs'])\n",
    "        \n",
    "        # apply the activation function on the cur neurons values.\n",
    "        if activation_fn is 'Sigmoid':\n",
    "            neurons_val = [sigmoid_derivative(val) for val in neurons_val]\n",
    "        else:\n",
    "            neurons_val = [tanh_derivative(val) for val in neurons_val]\n",
    "            \n",
    "        # calculate the net value.\n",
    "        network[i]['net'] = neurons_val\n",
    "        \n",
    "        # the next layer input is this layer's output\n",
    "        if i < len(network) - 1:\n",
    "            network[i + 1]['inputs'] = neurons_val\n",
    "        else:\n",
    "            last_output = [1 if max(neurons_val[1:]) is neurons_val[i] else 0 for i in range(1, len(neurons_val))]\n",
    "            last_output.insert(0, 1)\n",
    "    return network, last_output"
   ]
  },
  {
   "cell_type": "markdown",
   "metadata": {},
   "source": [
    "## First feed backward function\n",
    "\n",
    "- use vector/matrix multiplication to calculate gradient value on each layer.\n",
    "    - Output_layer_gradient = (intended_y - predicted_y) * d_activation_fn(net)\n",
    "    - Hidden_layer_gradient_i = (gradient_(i-1) * W_i * d_activation_fn(net_i)"
   ]
  },
  {
   "cell_type": "code",
   "execution_count": 3096,
   "metadata": {},
   "outputs": [],
   "source": [
    "# network contains layers in the form of dictionaries, each layer consists of:\n",
    "# numpy array of layer weights.\n",
    "# numpy array of layer inputs.\n",
    "# net value.\n",
    "# gradient value.\n",
    "# All values are randomly intialized.\n",
    "def feed_backward(network, intended_y, predicted_y, activation_fn):\n",
    "    # for each layer use vector/matrix multiplication to calculate the gradient value and update it in the network.\n",
    "    # calculating gradient for output layer\n",
    "    output_layer = network[len(network) - 1]\n",
    "    output_layer['gradient'] = intended_y - predicted_y\n",
    "    if activation_fn is 'Sigmoid':\n",
    "        deriv = [sigmoid_derivative(val) for val in output_layer['net']]\n",
    "    else:\n",
    "        deriv = [tanh_derivative(val) for val in output_layer['net']]\n",
    "    deriv = np.array(deriv).reshape(-1, 1)\n",
    "    net = np.array(output_layer['net']).reshape(-1, 1)\n",
    "    output_layer['gradient'].flatten()\n",
    "    np.dot(output_layer['gradient'], deriv)\n",
    "    #np.dot(output_layer['gradient'], net)\n",
    "    network[len(network) - 1] = output_layer\n",
    "    \n",
    "    # calculating gradient for hidden layers\n",
    "    previous_gradient = output_layer['gradient']\n",
    "    for i in range(len(network) - 2, 0, -1): # step=-1\n",
    "        layer = network[i]\n",
    "        next_layer = network[i + 1]\n",
    "        layer['gradient'] = np.dot(previous_gradient.T, next_layer['weights'])\n",
    "        if activation_fn is 'Sigmoid':\n",
    "            deriv = [sigmoid_derivative(val) for val in layer['net']]\n",
    "        else:\n",
    "            deriv = [tanh_derivative(val) for val in layer['net']]\n",
    "        deriv = np.array(deriv).reshape(-1, 1)\n",
    "        net = np.array(layer['net']).reshape(-1, 1)\n",
    "        layer['gradient'].flatten()\n",
    "        np.dot(layer['gradient'], deriv)\n",
    "        #np.dot(layer['gradient'], net)\n",
    "        network[i] = layer   \n",
    "        previous_gradient = layer['gradient']\n",
    "    #print('backward net', network[1]['net'])\n",
    "    return network"
   ]
  },
  {
   "cell_type": "markdown",
   "metadata": {},
   "source": [
    "### Second feed forward function\n",
    "\n",
    "- use vector/matrix multiplication to Update the weight matrix in each layer.\n",
    "    - W_i = W_i + (learning_rate * gradient_i * x_i)"
   ]
  },
  {
   "cell_type": "code",
   "execution_count": 3097,
   "metadata": {},
   "outputs": [],
   "source": [
    "# network contains layers in the form of dictionaries, each layer consists of:\n",
    "# numpy array of layer weights.\n",
    "# numpy array of layer inputs.\n",
    "# net value.\n",
    "# gradient value.\n",
    "# All values are randomly intialized.\n",
    "def feed_forward2(network, learning_rate):\n",
    "     # for each layer use vector/matrix multiplication to calculate the new weights value and update it in the network.\n",
    "    for i in range (1 , len(network)):\n",
    "        layer = network[i]\n",
    "        #print('gradient1', layer['gradient'])\n",
    "        #print('weights1', layer['weights'])\n",
    "        net = (layer['net'] * layer['gradient']) * learning_rate\n",
    "        #print('gradient2', layer['gradient'])\n",
    "        net = net.reshape(-1, 1)\n",
    "        \n",
    "        for neuron_index in range(layer['weights'].shape[0]):\n",
    "            layer['weights'][neuron_index] += net[neuron_index]\n",
    "        #print('weights2', layer['weights'])\n",
    "        network[i] = layer\n",
    "        \n",
    "    return network"
   ]
  },
  {
   "cell_type": "markdown",
   "metadata": {},
   "source": [
    "### Backpropagation model\n",
    "\n",
    "- For each epoch call:\n",
    "\n",
    "    - Feed forward, calculating the net values for each layer.\n",
    "\n",
    "    - Feed Backward, calculating the gradient values for each layer.\n",
    "\n",
    "    - Feed forward, updating the weights for each layer."
   ]
  },
  {
   "cell_type": "code",
   "execution_count": 3098,
   "metadata": {},
   "outputs": [],
   "source": [
    "def backpropagation(x_train, y_train, network, learning_rate, epochs, use_bias, activation_fn):\n",
    "    # for each epoch:\n",
    "    for i in range(epochs):\n",
    "        for ind in range(x_train.shape[0]):\n",
    "            # call feed_forward1 with the given network, row of data, activation function and use_bias.\n",
    "            network, y_prediction = feed_forward1(network, x_train[ind], activation_fn, use_bias)\n",
    "            # call feed_backward with the returned network, cur row of y_train, cur y_prediction for this row and the activation_fn\n",
    "            network = feed_backward(network, y_train[ind], np.array(y_prediction), activation_fn)\n",
    "            # call feed_forward2 with the returned network and other necessary values\n",
    "            network = feed_forward2(network, learning_rate)\n",
    "    return network"
   ]
  },
  {
   "cell_type": "markdown",
   "metadata": {},
   "source": [
    "## Testing"
   ]
  },
  {
   "cell_type": "code",
   "execution_count": 3099,
   "metadata": {},
   "outputs": [],
   "source": [
    "def test(x_test, y_test, network, activation_fn, use_bias):\n",
    "    y_prediction = []\n",
    "    for row in x_test:\n",
    "        network, y = feed_forward1(network, row, activation_fn, use_bias)\n",
    "        y_prediction.append(y)\n",
    "    print(y_prediction)\n",
    "    # calculating the accuracy.\n",
    "    comparison = (y_prediction == y_test)\n",
    "    co = 0\n",
    "    for l in comparison:\n",
    "        ans = True\n",
    "        for val in l:\n",
    "            ans &= val\n",
    "        if ans == True:\n",
    "            co += 1\n",
    "    accuracy = (co/y_test.shape[0]) * 100\n",
    "    return y_prediction, accuracy"
   ]
  },
  {
   "cell_type": "markdown",
   "metadata": {},
   "source": [
    "## Extracting the data"
   ]
  },
  {
   "cell_type": "code",
   "execution_count": 3100,
   "metadata": {
    "colab": {},
    "colab_type": "code",
    "id": "qwxUH6jbPLuO"
   },
   "outputs": [],
   "source": [
    "# We will be using all the 4 feauters and 3 classes.\n",
    "# The y column should be on hot encoded, meaning that if the label is c1 \n",
    "    # then it should be represented as follow, 100 and so on.\n",
    "\n",
    "def extract_data():\n",
    "    data_x = data.iloc[:, :4]\n",
    "    x0 = np.ones([150, 1]) # feature 0 for bias\n",
    "    data_x = np.append(x0, data_x, axis=1)\n",
    "    # One hot encoding the ouput column.\n",
    "    values = np.array(data['Class'])\n",
    "    # integer encode\n",
    "    label_encoder = LabelEncoder()\n",
    "    integer_encoded = label_encoder.fit_transform(values)\n",
    "    # binary encode\n",
    "    onehot_encoder = OneHotEncoder(sparse=False, categories='auto')\n",
    "    integer_encoded = integer_encoded.reshape(len(integer_encoded), 1)\n",
    "    onehot_encoded = onehot_encoder.fit_transform(integer_encoded)\n",
    "    data_y = onehot_encoded\n",
    "    data_y = np.append(x0, data_y, axis=1)\n",
    "    \n",
    "    x_train, x_test, y_train, y_test = train_test_split(data_x, data_y, test_size=0.4, shuffle=True, stratify = data_y)\n",
    "    return x_train, y_train, x_test, y_test\n"
   ]
  },
  {
   "cell_type": "markdown",
   "metadata": {},
   "source": [
    "## Main"
   ]
  },
  {
   "cell_type": "code",
   "execution_count": 3101,
   "metadata": {
    "colab": {},
    "colab_type": "code",
    "id": "pl9GMxsjPLuT"
   },
   "outputs": [],
   "source": [
    "def main(numOf_hidden_layers, numOf_nuerons, activation_fn, learning_rate, epochs, use_bias):\n",
    "    # Get the train and test data.\n",
    "    x_train, y_train, x_test, y_test = extract_data()\n",
    "    \n",
    "    # Setup the Neural Network layer.\n",
    "    network = nn_setup(numOf_hidden_layers, numOf_nuerons)\n",
    "    \n",
    "    #print(network)\n",
    "    \n",
    "    # Call the backpropagation model and return the learned weights.\n",
    "    network = backpropagation(x_train, y_train, network, learning_rate, epochs, use_bias, activation_fn)\n",
    "\n",
    "    #print(network)\n",
    "    \n",
    "    # Test the moddel and return its accuracy, then print it.\n",
    "    y_prediction_test, accuracy_test = test(x_test, y_test, network, activation_fn, use_bias)\n",
    "    print('Testing accuracy:\\n', accuracy_test)\n",
    "    \n",
    "    # print the confusion matrix.\n",
    "    print('Confusion Matrix:\\n', confusion_matrix(y_test, y_prediction_test))\n",
    "    return"
   ]
  },
  {
   "cell_type": "markdown",
   "metadata": {
    "colab": {},
    "colab_type": "code",
    "id": "D_-ariESPLuV"
   },
   "source": [
    "<h1>UI</h1>\n",
    "\n",
    "- text box to take the number of desired hidden layers.\n",
    "\n",
    "- text box to take the number of desired neurons in each hidden layer.\n",
    "\n",
    "- combo box to choose the activation function, sigmoid or tanh.\n",
    "\n",
    "- text box to take the desired learning rate.\n",
    "\n",
    "- text box to take the desired number of epochs.\n",
    "\n",
    "- check box for the bias."
   ]
  },
  {
   "cell_type": "code",
   "execution_count": 3102,
   "metadata": {
    "colab": {},
    "colab_type": "code",
    "id": "D_-ariESPLuV"
   },
   "outputs": [],
   "source": [
    "from tkinter import *"
   ]
  },
  {
   "cell_type": "code",
   "execution_count": 3103,
   "metadata": {
    "colab": {},
    "colab_type": "code",
    "id": "D_-ariESPLuV"
   },
   "outputs": [],
   "source": [
    "input_window = Tk()\n",
    "input_window.title(\"Neural Networks Task 3\")\n",
    "input_window.geometry(\"500x500\")\n",
    "activation_fns = [\"Sigmoid\", \"Tanh\"]"
   ]
  },
  {
   "cell_type": "markdown",
   "metadata": {
    "colab": {},
    "colab_type": "code",
    "id": "D_-ariESPLuV"
   },
   "source": [
    "<h3>Number of Hidden Layers</h3>"
   ]
  },
  {
   "cell_type": "code",
   "execution_count": 3104,
   "metadata": {},
   "outputs": [],
   "source": [
    "#Number of hidden Layers label\n",
    "numOf_hidden_layers_value = StringVar()\n",
    "numOf_hidden_layers_label = Label(input_window, textvariable = numOf_hidden_layers_value) \n",
    "numOf_hidden_layers_value.set(\"Number of hidden Layers\")\n",
    "numOf_hidden_layers_label.place(x=45, y=100)\n",
    "#Number of hidden Layers text\n",
    "numOf_hidden_layers_text = Entry(input_window)\n",
    "numOf_hidden_layers_text.place(x=190, y=100)\n",
    "numOf_hidden_layers_text.focus_set()"
   ]
  },
  {
   "cell_type": "markdown",
   "metadata": {
    "colab": {},
    "colab_type": "code",
    "id": "D_-ariESPLuV"
   },
   "source": [
    "<h3>Number of neurons in each hidden layer</h3>"
   ]
  },
  {
   "cell_type": "code",
   "execution_count": 3105,
   "metadata": {},
   "outputs": [],
   "source": [
    "#Number of neurons hidden Layers label\n",
    "numOf_neurons_value = StringVar()\n",
    "numOf_neurons_label = Label(input_window, textvariable = numOf_neurons_value) \n",
    "numOf_neurons_value.set(\"Number of neurons in them\")\n",
    "numOf_neurons_label.place(x=30, y=140)\n",
    "#Number of neurons hidden Layers text\n",
    "numOf_neurons_text = Entry(input_window)\n",
    "numOf_neurons_text.place(x=190, y=140)\n",
    "numOf_neurons_text.focus_set()"
   ]
  },
  {
   "cell_type": "markdown",
   "metadata": {
    "colab": {},
    "colab_type": "code",
    "id": "D_-ariESPLuV"
   },
   "source": [
    "<h3>Activation function Dropdown List</h3>"
   ]
  },
  {
   "cell_type": "code",
   "execution_count": 3106,
   "metadata": {
    "colab": {},
    "colab_type": "code",
    "id": "D_-ariESPLuV"
   },
   "outputs": [],
   "source": [
    "#Activation fn label\n",
    "activation_fn_value = StringVar()\n",
    "activation_fn_label = Label(input_window, textvariable = activation_fn_value) \n",
    "activation_fn_value.set(\"Activaion function\")\n",
    "activation_fn_label.place(x=80, y=170)\n",
    "#Activation fn list\n",
    "activation_fn_var = StringVar(input_window)\n",
    "activation_fn = OptionMenu(input_window, activation_fn_var, *activation_fns)\n",
    "activation_fn.config(width=12, font=('Helvetica', 10))\n",
    "#activation_fn_var.set('Sigmoid') # set the default option\n",
    "activation_fn.place(x=190, y=170)"
   ]
  },
  {
   "cell_type": "markdown",
   "metadata": {
    "colab": {},
    "colab_type": "code",
    "id": "D_-ariESPLuV"
   },
   "source": [
    "<h3>Learning Rate</h3>"
   ]
  },
  {
   "cell_type": "code",
   "execution_count": 3107,
   "metadata": {
    "colab": {},
    "colab_type": "code",
    "id": "D_-ariESPLuV"
   },
   "outputs": [],
   "source": [
    "#learning rate label\n",
    "learning_rate_value = StringVar()\n",
    "learning_rate_label = Label(input_window, textvariable = learning_rate_value) \n",
    "learning_rate_value.set(\"Learning Rate\")\n",
    "learning_rate_label.place(x=105, y=210)\n",
    "#learning rate text\n",
    "learning_rate_text = Entry(input_window)\n",
    "learning_rate_text.place(x=193, y=210)\n",
    "learning_rate_text.focus_set()"
   ]
  },
  {
   "cell_type": "markdown",
   "metadata": {
    "colab": {},
    "colab_type": "code",
    "id": "D_-ariESPLuV"
   },
   "source": [
    "<h3>Epochs</h3>"
   ]
  },
  {
   "cell_type": "code",
   "execution_count": 3108,
   "metadata": {
    "colab": {},
    "colab_type": "code",
    "id": "D_-ariESPLuV"
   },
   "outputs": [],
   "source": [
    "#Epochs label\n",
    "epochs_label_value = StringVar()\n",
    "epochs_label = Label(input_window, textvariable = epochs_label_value) \n",
    "epochs_label_value.set(\"Epochs\")\n",
    "epochs_label.place(x=140, y=240)\n",
    "#Epochs text\n",
    "epochs_text = Entry(input_window)\n",
    "epochs_text.place(x=193, y=240)\n",
    "epochs_text.focus_set()"
   ]
  },
  {
   "cell_type": "markdown",
   "metadata": {
    "colab": {},
    "colab_type": "code",
    "id": "D_-ariESPLuV"
   },
   "source": [
    "<h3>Bias</h3>"
   ]
  },
  {
   "cell_type": "code",
   "execution_count": 3109,
   "metadata": {
    "colab": {},
    "colab_type": "code",
    "id": "D_-ariESPLuV"
   },
   "outputs": [],
   "source": [
    "#Bias check box\n",
    "bias_checkbox = IntVar()\n",
    "Checkbutton(input_window, text=\"Bias\", variable=bias_checkbox).place(x=190,y=290)"
   ]
  },
  {
   "cell_type": "markdown",
   "metadata": {
    "colab": {},
    "colab_type": "code",
    "id": "D_-ariESPLuV"
   },
   "source": [
    "<h3>Training The Model Button</h3>"
   ]
  },
  {
   "cell_type": "code",
   "execution_count": 3110,
   "metadata": {
    "colab": {},
    "colab_type": "code",
    "id": "D_-ariESPLuV"
   },
   "outputs": [],
   "source": [
    "def submit_button_backpropagation():\n",
    "    layers_neurons = numOf_neurons_text.get().split()\n",
    "    layers_neurons = [int(val) for val in layers_neurons]\n",
    "    main(int(numOf_hidden_layers_text.get()), layers_neurons, activation_fn_var.get(), float(learning_rate_text.get()),\n",
    "         int(epochs_text.get()), int(bias_checkbox.get()))\n"
   ]
  },
  {
   "cell_type": "code",
   "execution_count": 3111,
   "metadata": {
    "colab": {},
    "colab_type": "code",
    "id": "D_-ariESPLuV"
   },
   "outputs": [],
   "source": [
    "#Button\n",
    "train_model_button = Button(input_window, text='Train backpropagation', width=17, command=submit_button_backpropagation)\n",
    "train_model_button.place(x=190, y=320)"
   ]
  },
  {
   "cell_type": "code",
   "execution_count": 3112,
   "metadata": {
    "colab": {},
    "colab_type": "code",
    "id": "D_-ariESPLuV"
   },
   "outputs": [
    {
     "name": "stdout",
     "output_type": "stream",
     "text": [
      "[[1, 0, 1, 0], [1, 0, 1, 0], [1, 0, 1, 0], [1, 0, 1, 0], [1, 0, 1, 0], [1, 0, 1, 0], [1, 0, 1, 0], [1, 0, 1, 0], [1, 0, 1, 0], [1, 0, 1, 0], [1, 0, 1, 0], [1, 0, 1, 0], [1, 0, 1, 0], [1, 0, 1, 0], [1, 0, 1, 0], [1, 0, 1, 0], [1, 0, 1, 0], [1, 0, 1, 0], [1, 0, 1, 0], [1, 0, 1, 0], [1, 0, 1, 0], [1, 0, 1, 0], [1, 0, 1, 0], [1, 0, 1, 0], [1, 0, 1, 0], [1, 0, 1, 0], [1, 0, 1, 0], [1, 0, 1, 0], [1, 0, 1, 0], [1, 0, 1, 0], [1, 0, 1, 0], [1, 0, 1, 0], [1, 0, 1, 0], [1, 0, 1, 0], [1, 0, 1, 0], [1, 0, 1, 0], [1, 0, 1, 0], [1, 0, 1, 0], [1, 0, 1, 0], [1, 0, 1, 0], [1, 0, 1, 0], [1, 0, 1, 0], [1, 0, 1, 0], [1, 0, 1, 0], [1, 0, 1, 0], [1, 0, 1, 0], [1, 0, 1, 0], [1, 0, 1, 0], [1, 0, 1, 0], [1, 0, 1, 0], [1, 0, 1, 0], [1, 0, 1, 0], [1, 0, 1, 0], [1, 0, 1, 0], [1, 0, 1, 0], [1, 0, 1, 0], [1, 0, 1, 0], [1, 0, 1, 0], [1, 0, 1, 0], [1, 0, 1, 0]]\n",
      "Testing accuracy:\n",
      " 33.33333333333333\n"
     ]
    },
    {
     "name": "stderr",
     "output_type": "stream",
     "text": [
      "Exception in Tkinter callback\n",
      "Traceback (most recent call last):\n",
      "  File \"C:\\ProgramData\\Anaconda3\\lib\\tkinter\\__init__.py\", line 1705, in __call__\n",
      "    return self.func(*args)\n",
      "  File \"<ipython-input-3110-75233577d4ed>\", line 5, in submit_button_backpropagation\n",
      "    int(epochs_text.get()), int(bias_checkbox.get()))\n",
      "  File \"<ipython-input-3101-0e31a5d511b3>\", line 20, in main\n",
      "    print('Confusion Matrix:\\n', confusion_matrix(y_test, y_prediction_test))\n",
      "  File \"C:\\ProgramData\\Anaconda3\\lib\\site-packages\\sklearn\\metrics\\classification.py\", line 253, in confusion_matrix\n",
      "    y_type, y_true, y_pred = _check_targets(y_true, y_pred)\n",
      "  File \"C:\\ProgramData\\Anaconda3\\lib\\site-packages\\sklearn\\metrics\\classification.py\", line 81, in _check_targets\n",
      "    \"and {1} targets\".format(type_true, type_pred))\n",
      "ValueError: Classification metrics can't handle a mix of multilabel-indicator and multiclass-multioutput targets\n"
     ]
    }
   ],
   "source": [
    "input_window.mainloop() #open window"
   ]
  }
 ],
 "metadata": {
  "celltoolbar": "Raw Cell Format",
  "colab": {
   "name": "NN Task 1.ipynb",
   "provenance": []
  },
  "kernelspec": {
   "display_name": "Python 3",
   "language": "python",
   "name": "python3"
  },
  "language_info": {
   "codemirror_mode": {
    "name": "ipython",
    "version": 3
   },
   "file_extension": ".py",
   "mimetype": "text/x-python",
   "name": "python",
   "nbconvert_exporter": "python",
   "pygments_lexer": "ipython3",
   "version": "3.7.4"
  }
 },
 "nbformat": 4,
 "nbformat_minor": 1
}
