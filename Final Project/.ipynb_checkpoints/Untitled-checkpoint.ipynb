{
 "cells": [
  {
   "cell_type": "code",
   "execution_count": 31,
   "metadata": {},
   "outputs": [],
   "source": [
    "import glob\n",
    "import cv2\n",
    "import numpy as np"
   ]
  },
  {
   "cell_type": "code",
   "execution_count": 32,
   "metadata": {},
   "outputs": [],
   "source": [
    "def read_dataset(path):\n",
    "    image_files = glob.glob(path)\n",
    "    images = [cv2.imread(image) for image in image_files]\n",
    "    return images"
   ]
  },
  {
   "cell_type": "code",
   "execution_count": 34,
   "metadata": {},
   "outputs": [],
   "source": [
    "def add_gaussian_noise(image):\n",
    "    rows,cols, _ = image.shape\n",
    "    mean = 0\n",
    "    var = 500\n",
    "    sigma = var ** 0.5\n",
    "    gaussian = np.random.normal(mean, sigma, (rows,cols))\n",
    "\n",
    "    noisy_image = np.zeros(image.shape, np.float32)\n",
    "\n",
    "    if len(image.shape) == 2:\n",
    "        noisy_image = image + gaussian\n",
    "    else:\n",
    "        noisy_image[:, :, 0] = image[:, :, 0] + gaussian\n",
    "        noisy_image[:, :, 1] = image[:, :, 1] + gaussian\n",
    "        noisy_image[:, :, 2] = image[:, :, 2] + gaussian\n",
    "\n",
    "    cv2.normalize(noisy_image, noisy_image, 0, 255, cv2.NORM_MINMAX, dtype=-1)\n",
    "    noisy_image = noisy_image.astype(np.uint8)\n",
    "\n",
    "    '''cv2.imshow(\"image\", image)\n",
    "    cv2.imshow(\"gaussian\", gaussian)\n",
    "    cv2.imshow(\"noisy\", noisy_image)\n",
    "    cv2.waitKey(0)'''\n",
    "    \n",
    "    return noisy_image\n"
   ]
  },
  {
   "cell_type": "markdown",
   "metadata": {},
   "source": [
    "# MAIN"
   ]
  },
  {
   "cell_type": "code",
   "execution_count": 35,
   "metadata": {},
   "outputs": [],
   "source": [
    "train_normal_images = read_dataset(\"Norm/*\")\n",
    "train_sick_images = read_dataset(\"COVID-19/*\")\n",
    "y_train = read_dataset(\"test/path\")"
   ]
  },
  {
   "cell_type": "code",
   "execution_count": 36,
   "metadata": {},
   "outputs": [],
   "source": [
    "x_train = []\n",
    "x_train.extend(train_normal_images)\n",
    "x_train.extend(train_sick_images)"
   ]
  },
  {
   "cell_type": "code",
   "execution_count": 37,
   "metadata": {},
   "outputs": [],
   "source": [
    "x_train_labels = [0] * len(train_normal_images)\n",
    "x_train_labels.extend([1] * len(train_sick_images))"
   ]
  },
  {
   "cell_type": "code",
   "execution_count": 38,
   "metadata": {},
   "outputs": [],
   "source": [
    "augmented_x_train = []\n",
    "augmented_x_train_labels = []\n",
    "for image,label in zip(x_train, x_train_labels):\n",
    "    noisy_image = add_gaussian_noise(image)\n",
    "    augmented_x_train.append(noisy_image)\n",
    "    augmented_x_train_labels.append(label)\n",
    "x_train.extend(augmented_x_train)\n",
    "x_train_labels.extend(augmented_x_train_labels)"
   ]
  },
  {
   "cell_type": "code",
   "execution_count": 42,
   "metadata": {},
   "outputs": [
    {
     "data": {
      "text/plain": [
       "'for image in x_train:\\n    image = cv2.resize(image, (500, 500))\\n    cv2.imshow(\"output\", image)\\n    cv2.waitKey(0)       \\n    '"
      ]
     },
     "execution_count": 42,
     "metadata": {},
     "output_type": "execute_result"
    }
   ],
   "source": [
    "#display images\n",
    "'''for image in x_train:\n",
    "    image = cv2.resize(image, (500, 500))\n",
    "    cv2.imshow(\"output\", image)\n",
    "    cv2.waitKey(0)       \n",
    "    '''"
   ]
  },
  {
   "cell_type": "code",
   "execution_count": null,
   "metadata": {},
   "outputs": [],
   "source": []
  }
 ],
 "metadata": {
  "kernelspec": {
   "display_name": "Python 3",
   "language": "python",
   "name": "python3"
  },
  "language_info": {
   "codemirror_mode": {
    "name": "ipython",
    "version": 3
   },
   "file_extension": ".py",
   "mimetype": "text/x-python",
   "name": "python",
   "nbconvert_exporter": "python",
   "pygments_lexer": "ipython3",
   "version": "3.6.10"
  }
 },
 "nbformat": 4,
 "nbformat_minor": 4
}
